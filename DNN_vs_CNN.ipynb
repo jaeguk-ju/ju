{
  "nbformat": 4,
  "nbformat_minor": 0,
  "metadata": {
    "colab": {
      "name": "DNN_vs_CNN.ipynb",
      "provenance": [],
      "collapsed_sections": [],
      "include_colab_link": true
    },
    "kernelspec": {
      "name": "python3",
      "display_name": "Python 3"
    },
    "accelerator": "GPU"
  },
  "cells": [
    {
      "cell_type": "markdown",
      "metadata": {
        "id": "view-in-github",
        "colab_type": "text"
      },
      "source": [
        "<a href=\"https://colab.research.google.com/github/jaeguk-ju/ju/blob/master/DNN_vs_CNN.ipynb\" target=\"_parent\"><img src=\"https://colab.research.google.com/assets/colab-badge.svg\" alt=\"Open In Colab\"/></a>"
      ]
    },
    {
      "cell_type": "code",
      "metadata": {
        "id": "AwzEZ0c_Z3xG",
        "outputId": "211eba94-f6dd-4480-e2f4-6c61814ea6e4",
        "colab": {
          "base_uri": "https://localhost:8080/",
          "height": 34
        }
      },
      "source": [
        "import tensorflow as tf\n",
        "from tensorflow.keras import datasets, models\n",
        "from tensorflow.keras.layers import Flatten, Dense, Dropout, Conv2D, MaxPool2D\n",
        "from tensorflow.keras.utils import plot_model\n",
        "\n",
        "print(tf.__version__)"
      ],
      "execution_count": null,
      "outputs": [
        {
          "output_type": "stream",
          "text": [
            "2.3.0\n"
          ],
          "name": "stdout"
        }
      ]
    },
    {
      "cell_type": "code",
      "metadata": {
        "id": "4eedw_o-Z-XL",
        "outputId": "8acf79bb-1287-4614-c1b5-bd43aed47b1e",
        "colab": {
          "base_uri": "https://localhost:8080/",
          "height": 193
        }
      },
      "source": [
        "fashion_mnist = datasets.fashion_mnist\n",
        "(train_x, train_y), (test_x, test_y) = fashion_mnist.load_data()\n",
        "\n",
        "## train_x : need for learning DNN\n",
        "## ext_train_x : need for learning CNN\n",
        "train_x = train_x/255.0\n",
        "test_x = test_x/255.0\n",
        "\n",
        "ext_train_x = train_x.reshape((60000, 28, 28, 1))\n",
        "ext_test_x = test_x.reshape((10000, 28, 28, 1))\n",
        "\n",
        "## show the dimensions of train_x and ext_train_x\n",
        "print(train_x.shape)\n",
        "print(ext_train_x.shape)"
      ],
      "execution_count": null,
      "outputs": [
        {
          "output_type": "stream",
          "text": [
            "Downloading data from https://storage.googleapis.com/tensorflow/tf-keras-datasets/train-labels-idx1-ubyte.gz\n",
            "32768/29515 [=================================] - 0s 0us/step\n",
            "Downloading data from https://storage.googleapis.com/tensorflow/tf-keras-datasets/train-images-idx3-ubyte.gz\n",
            "26427392/26421880 [==============================] - 0s 0us/step\n",
            "Downloading data from https://storage.googleapis.com/tensorflow/tf-keras-datasets/t10k-labels-idx1-ubyte.gz\n",
            "8192/5148 [===============================================] - 0s 0us/step\n",
            "Downloading data from https://storage.googleapis.com/tensorflow/tf-keras-datasets/t10k-images-idx3-ubyte.gz\n",
            "4423680/4422102 [==============================] - 0s 0us/step\n",
            "(60000, 28, 28)\n",
            "(60000, 28, 28, 1)\n"
          ],
          "name": "stdout"
        }
      ]
    },
    {
      "cell_type": "code",
      "metadata": {
        "id": "ySQQ_8oDaJPr",
        "outputId": "c21542f0-7bb4-4693-e0ed-5eb552ce1092",
        "colab": {
          "base_uri": "https://localhost:8080/",
          "height": 721
        }
      },
      "source": [
        "## Define a DNN model and a CNN model\n",
        "## set the number of params. of DNN and the number of params. of CNN to be similar\n",
        "\n",
        "## DNN model\n",
        "dnn_model = models.Sequential([\n",
        "  Flatten(input_shape=(28,28)),\n",
        "  Dense(110, activation='relu'),\n",
        "  Dense(100, activation='relu'),\n",
        "  Dense(10, activation='softmax')]\n",
        ")\n",
        "\n",
        "## CNN model\n",
        "cnn_model = models.Sequential([\n",
        "  Conv2D(32, (3, 3), activation='relu', input_shape=(28, 28, 1)),\n",
        "  MaxPool2D(pool_size=(2, 2), strides=(2,2), padding='valid'),\n",
        "  Conv2D(64, (3, 3), activation='relu'),\n",
        "  MaxPool2D(pool_size=(2, 2), strides=(2,2), padding='valid'),\n",
        "  Conv2D(64, (3, 3), activation='relu'),\n",
        "  Flatten(),\n",
        "  Dense(64, activation='relu'),\n",
        "  Dense(10, activation='softmax')\n",
        "])\n",
        "\n",
        "dnn_model.summary()\n",
        "cnn_model.summary()"
      ],
      "execution_count": null,
      "outputs": [
        {
          "output_type": "stream",
          "text": [
            "Model: \"sequential\"\n",
            "_________________________________________________________________\n",
            "Layer (type)                 Output Shape              Param #   \n",
            "=================================================================\n",
            "flatten (Flatten)            (None, 784)               0         \n",
            "_________________________________________________________________\n",
            "dense (Dense)                (None, 110)               86350     \n",
            "_________________________________________________________________\n",
            "dense_1 (Dense)              (None, 100)               11100     \n",
            "_________________________________________________________________\n",
            "dense_2 (Dense)              (None, 10)                1010      \n",
            "=================================================================\n",
            "Total params: 98,460\n",
            "Trainable params: 98,460\n",
            "Non-trainable params: 0\n",
            "_________________________________________________________________\n",
            "Model: \"sequential_1\"\n",
            "_________________________________________________________________\n",
            "Layer (type)                 Output Shape              Param #   \n",
            "=================================================================\n",
            "conv2d (Conv2D)              (None, 26, 26, 32)        320       \n",
            "_________________________________________________________________\n",
            "max_pooling2d (MaxPooling2D) (None, 13, 13, 32)        0         \n",
            "_________________________________________________________________\n",
            "conv2d_1 (Conv2D)            (None, 11, 11, 64)        18496     \n",
            "_________________________________________________________________\n",
            "max_pooling2d_1 (MaxPooling2 (None, 5, 5, 64)          0         \n",
            "_________________________________________________________________\n",
            "conv2d_2 (Conv2D)            (None, 3, 3, 64)          36928     \n",
            "_________________________________________________________________\n",
            "flatten_1 (Flatten)          (None, 576)               0         \n",
            "_________________________________________________________________\n",
            "dense_3 (Dense)              (None, 64)                36928     \n",
            "_________________________________________________________________\n",
            "dense_4 (Dense)              (None, 10)                650       \n",
            "=================================================================\n",
            "Total params: 93,322\n",
            "Trainable params: 93,322\n",
            "Non-trainable params: 0\n",
            "_________________________________________________________________\n"
          ],
          "name": "stdout"
        }
      ]
    },
    {
      "cell_type": "code",
      "metadata": {
        "id": "8bAHrCPtcOSj",
        "outputId": "c8dffb4f-5d62-4c93-ce50-93b7609e8d84",
        "colab": {
          "base_uri": "https://localhost:8080/",
          "height": 1000
        }
      },
      "source": [
        "dnn_model.compile(optimizer='adam', loss='sparse_categorical_crossentropy', metrics=['accuracy'])\n",
        "cnn_model.compile(optimizer='adam', loss='sparse_categorical_crossentropy', metrics=['accuracy'])\n",
        "\n",
        "dnn_hist=dnn_model.fit(train_x, train_y, epochs=20, batch_size=100, validation_split=0.10)\n",
        "cnn_hist=cnn_model.fit(ext_train_x, train_y, epochs=20, batch_size=100, validation_split=0.10)"
      ],
      "execution_count": null,
      "outputs": [
        {
          "output_type": "stream",
          "text": [
            "Epoch 1/20\n",
            "521/540 [===========================>..] - ETA: 0s - loss: 0.5467 - accuracy: 0.8080WARNING:tensorflow:Callbacks method `on_test_batch_end` is slow compared to the batch time (batch time: 0.0014s vs `on_test_batch_end` time: 0.0021s). Check your callbacks.\n",
            "540/540 [==============================] - 1s 2ms/step - loss: 0.5436 - accuracy: 0.8089 - val_loss: 0.4287 - val_accuracy: 0.8447\n",
            "Epoch 2/20\n",
            "540/540 [==============================] - 1s 2ms/step - loss: 0.3891 - accuracy: 0.8598 - val_loss: 0.3709 - val_accuracy: 0.8625\n",
            "Epoch 3/20\n",
            "540/540 [==============================] - 1s 2ms/step - loss: 0.3452 - accuracy: 0.8729 - val_loss: 0.3471 - val_accuracy: 0.8718\n",
            "Epoch 4/20\n",
            "540/540 [==============================] - 1s 2ms/step - loss: 0.3182 - accuracy: 0.8831 - val_loss: 0.3359 - val_accuracy: 0.8800\n",
            "Epoch 5/20\n",
            "540/540 [==============================] - 1s 2ms/step - loss: 0.2988 - accuracy: 0.8892 - val_loss: 0.3278 - val_accuracy: 0.8798\n",
            "Epoch 6/20\n",
            "540/540 [==============================] - 1s 2ms/step - loss: 0.2829 - accuracy: 0.8956 - val_loss: 0.3129 - val_accuracy: 0.8882\n",
            "Epoch 7/20\n",
            "540/540 [==============================] - 1s 2ms/step - loss: 0.2736 - accuracy: 0.8986 - val_loss: 0.3113 - val_accuracy: 0.8855\n",
            "Epoch 8/20\n",
            "540/540 [==============================] - 1s 2ms/step - loss: 0.2640 - accuracy: 0.9010 - val_loss: 0.3195 - val_accuracy: 0.8850\n",
            "Epoch 9/20\n",
            "540/540 [==============================] - 1s 2ms/step - loss: 0.2504 - accuracy: 0.9071 - val_loss: 0.3472 - val_accuracy: 0.8760\n",
            "Epoch 10/20\n",
            "540/540 [==============================] - 1s 2ms/step - loss: 0.2419 - accuracy: 0.9099 - val_loss: 0.3290 - val_accuracy: 0.8803\n",
            "Epoch 11/20\n",
            "540/540 [==============================] - 1s 2ms/step - loss: 0.2377 - accuracy: 0.9112 - val_loss: 0.3589 - val_accuracy: 0.8750\n",
            "Epoch 12/20\n",
            "540/540 [==============================] - 1s 2ms/step - loss: 0.2245 - accuracy: 0.9168 - val_loss: 0.3247 - val_accuracy: 0.8880\n",
            "Epoch 13/20\n",
            "540/540 [==============================] - 1s 2ms/step - loss: 0.2215 - accuracy: 0.9169 - val_loss: 0.3198 - val_accuracy: 0.8865\n",
            "Epoch 14/20\n",
            "540/540 [==============================] - 1s 2ms/step - loss: 0.2147 - accuracy: 0.9199 - val_loss: 0.3099 - val_accuracy: 0.8913\n",
            "Epoch 15/20\n",
            "540/540 [==============================] - 1s 2ms/step - loss: 0.2053 - accuracy: 0.9229 - val_loss: 0.3262 - val_accuracy: 0.8868\n",
            "Epoch 16/20\n",
            "540/540 [==============================] - 1s 2ms/step - loss: 0.2019 - accuracy: 0.9239 - val_loss: 0.3153 - val_accuracy: 0.8898\n",
            "Epoch 17/20\n",
            "540/540 [==============================] - 1s 2ms/step - loss: 0.1973 - accuracy: 0.9265 - val_loss: 0.3257 - val_accuracy: 0.8913\n",
            "Epoch 18/20\n",
            "540/540 [==============================] - 1s 2ms/step - loss: 0.1870 - accuracy: 0.9297 - val_loss: 0.3406 - val_accuracy: 0.8897\n",
            "Epoch 19/20\n",
            "540/540 [==============================] - 1s 2ms/step - loss: 0.1832 - accuracy: 0.9306 - val_loss: 0.3708 - val_accuracy: 0.8782\n",
            "Epoch 20/20\n",
            "540/540 [==============================] - 1s 2ms/step - loss: 0.1796 - accuracy: 0.9319 - val_loss: 0.3464 - val_accuracy: 0.8865\n",
            "Epoch 1/20\n",
            "540/540 [==============================] - 2s 4ms/step - loss: 0.6108 - accuracy: 0.7762 - val_loss: 0.4464 - val_accuracy: 0.8338\n",
            "Epoch 2/20\n",
            "540/540 [==============================] - 2s 3ms/step - loss: 0.3792 - accuracy: 0.8625 - val_loss: 0.3642 - val_accuracy: 0.8638\n",
            "Epoch 3/20\n",
            "540/540 [==============================] - 2s 3ms/step - loss: 0.3257 - accuracy: 0.8816 - val_loss: 0.3076 - val_accuracy: 0.8848\n",
            "Epoch 4/20\n",
            "540/540 [==============================] - 2s 3ms/step - loss: 0.2938 - accuracy: 0.8927 - val_loss: 0.2965 - val_accuracy: 0.8907\n",
            "Epoch 5/20\n",
            "540/540 [==============================] - 2s 3ms/step - loss: 0.2685 - accuracy: 0.9021 - val_loss: 0.2746 - val_accuracy: 0.9005\n",
            "Epoch 6/20\n",
            "540/540 [==============================] - 2s 3ms/step - loss: 0.2500 - accuracy: 0.9083 - val_loss: 0.2835 - val_accuracy: 0.8970\n",
            "Epoch 7/20\n",
            "540/540 [==============================] - 2s 3ms/step - loss: 0.2315 - accuracy: 0.9151 - val_loss: 0.2666 - val_accuracy: 0.9045\n",
            "Epoch 8/20\n",
            "540/540 [==============================] - 2s 4ms/step - loss: 0.2174 - accuracy: 0.9205 - val_loss: 0.2742 - val_accuracy: 0.9000\n",
            "Epoch 9/20\n",
            "540/540 [==============================] - 2s 4ms/step - loss: 0.2033 - accuracy: 0.9248 - val_loss: 0.2478 - val_accuracy: 0.9133\n",
            "Epoch 10/20\n",
            "540/540 [==============================] - 2s 4ms/step - loss: 0.1907 - accuracy: 0.9303 - val_loss: 0.2448 - val_accuracy: 0.9155\n",
            "Epoch 11/20\n",
            "540/540 [==============================] - 2s 4ms/step - loss: 0.1795 - accuracy: 0.9328 - val_loss: 0.2573 - val_accuracy: 0.9093\n",
            "Epoch 12/20\n",
            "540/540 [==============================] - 2s 4ms/step - loss: 0.1676 - accuracy: 0.9374 - val_loss: 0.2623 - val_accuracy: 0.9113\n",
            "Epoch 13/20\n",
            "540/540 [==============================] - 2s 4ms/step - loss: 0.1564 - accuracy: 0.9418 - val_loss: 0.2621 - val_accuracy: 0.9057\n",
            "Epoch 14/20\n",
            "540/540 [==============================] - 2s 3ms/step - loss: 0.1453 - accuracy: 0.9456 - val_loss: 0.2589 - val_accuracy: 0.9130\n",
            "Epoch 15/20\n",
            "540/540 [==============================] - 2s 3ms/step - loss: 0.1368 - accuracy: 0.9484 - val_loss: 0.2613 - val_accuracy: 0.9150\n",
            "Epoch 16/20\n",
            "540/540 [==============================] - 2s 3ms/step - loss: 0.1246 - accuracy: 0.9533 - val_loss: 0.2545 - val_accuracy: 0.9187\n",
            "Epoch 17/20\n",
            "540/540 [==============================] - 2s 3ms/step - loss: 0.1172 - accuracy: 0.9562 - val_loss: 0.2763 - val_accuracy: 0.9140\n",
            "Epoch 18/20\n",
            "540/540 [==============================] - 2s 3ms/step - loss: 0.1072 - accuracy: 0.9600 - val_loss: 0.2845 - val_accuracy: 0.9138\n",
            "Epoch 19/20\n",
            "540/540 [==============================] - 2s 3ms/step - loss: 0.1029 - accuracy: 0.9620 - val_loss: 0.2964 - val_accuracy: 0.9140\n",
            "Epoch 20/20\n",
            "540/540 [==============================] - 2s 3ms/step - loss: 0.0946 - accuracy: 0.9642 - val_loss: 0.3039 - val_accuracy: 0.9073\n"
          ],
          "name": "stdout"
        }
      ]
    },
    {
      "cell_type": "code",
      "metadata": {
        "id": "zevqqY3Md-a0",
        "outputId": "4457a569-e554-44b7-a4bc-cdf759b12ce7",
        "colab": {
          "base_uri": "https://localhost:8080/",
          "height": 461
        }
      },
      "source": [
        "import matplotlib.pyplot as plt\n",
        "\n",
        "plt.figure(figsize=(7,5))\n",
        "plt.plot(dnn_hist.history['accuracy'], 'r--', label='train (DNN)')\n",
        "plt.plot(dnn_hist.history['val_accuracy'], 'r-', label='valid (DNN)')\n",
        "plt.plot(cnn_hist.history['accuracy'], 'b--', label='train (CNN)')\n",
        "plt.plot(cnn_hist.history['val_accuracy'], 'b-', label='valid (CNN)')\n",
        "plt.ylim([0.8,1.005])\n",
        "plt.xlabel('Epoch', fontsize=12)\n",
        "plt.ylabel('Accuracy', fontsize=12)\n",
        "plt.legend(loc='upper left', fontsize=12)\n",
        "plt.title('Accuracy trace plot', fontsize=15)\n",
        "plt.show()\n",
        "\n",
        "dnn_sc = dnn_model.evaluate(test_x, test_y)\n",
        "cnn_sc = cnn_model.evaluate(ext_test_x, test_y)\n",
        "print('Performance of DNN')\n",
        "print('...test accuracy: %.3f, test loss: %.3f'%(dnn_sc[1], dnn_sc[0]))\n",
        "print('Performance of CNN')\n",
        "print('...test accuracy: %.3f, test loss: %.3f'%(cnn_sc[1], cnn_sc[0]))\n"
      ],
      "execution_count": null,
      "outputs": [
        {
          "output_type": "display_data",
          "data": {
            "image/png": "[encoded data removed]",
            "text/plain": [
              "<Figure size 504x360 with 1 Axes>"
            ]
          },
          "metadata": {
            "tags": [],
            "needs_background": "light"
          }
        },
        {
          "output_type": "stream",
          "text": [
            "313/313 [==============================] - 1s 2ms/step - loss: 0.3631 - accuracy: 0.8871\n",
            "313/313 [==============================] - 1s 2ms/step - loss: 0.3342 - accuracy: 0.9039\n",
            "Performance of DNN\n",
            "...test accuracy: 0.887, test loss: 0.363\n",
            "Performance of CNN\n",
            "...test accuracy: 0.904, test loss: 0.334\n"
          ],
          "name": "stdout"
        }
      ]
    }
  ]
}