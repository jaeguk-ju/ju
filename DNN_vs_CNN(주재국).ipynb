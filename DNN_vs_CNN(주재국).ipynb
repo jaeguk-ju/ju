{
  "nbformat": 4,
  "nbformat_minor": 0,
  "metadata": {
    "colab": {
      "name": "DNN_vs_CNN(주재국).ipynb",
      "provenance": [],
      "collapsed_sections": [],
      "include_colab_link": true
    },
    "kernelspec": {
      "name": "python3",
      "display_name": "Python 3"
    },
    "accelerator": "GPU"
  },
  "cells": [
    {
      "cell_type": "markdown",
      "metadata": {
        "id": "view-in-github",
        "colab_type": "text"
      },
      "source": [
        "<a href=\"https://colab.research.google.com/github/jaeguk-ju/ju/blob/master/DNN_vs_CNN(%EC%A3%BC%EC%9E%AC%EA%B5%AD).ipynb\" target=\"_parent\"><img src=\"https://colab.research.google.com/assets/colab-badge.svg\" alt=\"Open In Colab\"/></a>"
      ]
    },
    {
      "cell_type": "markdown",
      "metadata": {
        "id": "LdA61cBJfmt7"
      },
      "source": [
        "2차 과제(1번) 성명 : 주재국, 학번 : 201985-*010172*\n",
        "\n",
        "  CIFAR10 자료를 이용한 모델에서 비슷한 Parameter에서\n",
        " DNN(test_accuracy 0.424) <  CNN(test_accuracy 0.714)  \n",
        "\n"
      ]
    },
    {
      "cell_type": "code",
      "metadata": {
        "id": "AwzEZ0c_Z3xG",
        "outputId": "f5091007-9141-43f9-92f0-b068bdc77d22",
        "colab": {
          "base_uri": "https://localhost:8080/",
          "height": 34
        }
      },
      "source": [
        "import tensorflow as tf\n",
        "from tensorflow.keras import datasets, models\n",
        "from tensorflow.keras.layers import Flatten, Dense, Dropout, Conv2D, MaxPool2D\n",
        "from tensorflow.keras.utils import plot_model\n",
        "from keras.datasets import cifar10\n",
        "print(tf.__version__)"
      ],
      "execution_count": 18,
      "outputs": [
        {
          "output_type": "stream",
          "text": [
            "2.3.0\n"
          ],
          "name": "stdout"
        }
      ]
    },
    {
      "cell_type": "code",
      "metadata": {
        "id": "4eedw_o-Z-XL",
        "outputId": "c8bb273c-ba55-44f1-daff-1040ee8b400b",
        "colab": {
          "base_uri": "https://localhost:8080/",
          "height": 52
        }
      },
      "source": [
        "(train_x, train_y), (test_x, test_y) = cifar10.load_data()\n",
        "## train_x : need for learning DNN\n",
        "## ext_train_x : need for learning CNN\n",
        "train_x = train_x/255.0\n",
        "test_x = test_x/255.0\n",
        "\n",
        "ext_train_x = train_x.reshape((50000, 32, 32, 3))\n",
        "ext_test_x = test_x.reshape((10000, 32, 32, 3))\n",
        "\n",
        "## show the dimensions \n",
        "print(ext_test_x.shape)\n",
        "print(ext_train_x.shape)\n"
      ],
      "execution_count": 19,
      "outputs": [
        {
          "output_type": "stream",
          "text": [
            "(10000, 32, 32, 3)\n",
            "(50000, 32, 32, 3)\n"
          ],
          "name": "stdout"
        }
      ]
    },
    {
      "cell_type": "code",
      "metadata": {
        "id": "ySQQ_8oDaJPr",
        "outputId": "b547bc96-efd9-4197-c245-51b8785dc5d7",
        "colab": {
          "base_uri": "https://localhost:8080/",
          "height": 721
        }
      },
      "source": [
        "## Define a DNN model and a CNN model\n",
        "## set the number of params. of DNN and the number of params. of CNN to be similar\n",
        "\n",
        "## DNN model\n",
        "dnn_model = models.Sequential([\n",
        "  Flatten(input_shape=(32,32,3)),\n",
        "  Dense(50, activation='relu'),\n",
        "  Dense(50, activation='relu'),\n",
        "  Dense(10, activation='softmax')]\n",
        ")\n",
        "\n",
        "## CNN model\n",
        "cnn_model = models.Sequential([\n",
        "  Conv2D(32, (3, 3), activation='relu', input_shape=(32, 32, 3)),\n",
        "  MaxPool2D(pool_size=(2, 2), strides=(2,2), padding='valid'),\n",
        "  Conv2D(64, (3, 3), activation='relu'),\n",
        "  MaxPool2D(pool_size=(2, 2), strides=(2,2), padding='valid'),\n",
        "  Conv2D(64, (3, 3), activation='relu'),\n",
        "  Flatten(),\n",
        "  Dense(64, activation='relu'),\n",
        "  Dense(10, activation='softmax')\n",
        "])\n",
        "\n",
        "dnn_model.summary()\n",
        "cnn_model.summary()"
      ],
      "execution_count": 20,
      "outputs": [
        {
          "output_type": "stream",
          "text": [
            "Model: \"sequential_8\"\n",
            "_________________________________________________________________\n",
            "Layer (type)                 Output Shape              Param #   \n",
            "=================================================================\n",
            "flatten_8 (Flatten)          (None, 3072)              0         \n",
            "_________________________________________________________________\n",
            "dense_20 (Dense)             (None, 50)                153650    \n",
            "_________________________________________________________________\n",
            "dense_21 (Dense)             (None, 50)                2550      \n",
            "_________________________________________________________________\n",
            "dense_22 (Dense)             (None, 10)                510       \n",
            "=================================================================\n",
            "Total params: 156,710\n",
            "Trainable params: 156,710\n",
            "Non-trainable params: 0\n",
            "_________________________________________________________________\n",
            "Model: \"sequential_9\"\n",
            "_________________________________________________________________\n",
            "Layer (type)                 Output Shape              Param #   \n",
            "=================================================================\n",
            "conv2d_12 (Conv2D)           (None, 30, 30, 32)        896       \n",
            "_________________________________________________________________\n",
            "max_pooling2d_8 (MaxPooling2 (None, 15, 15, 32)        0         \n",
            "_________________________________________________________________\n",
            "conv2d_13 (Conv2D)           (None, 13, 13, 64)        18496     \n",
            "_________________________________________________________________\n",
            "max_pooling2d_9 (MaxPooling2 (None, 6, 6, 64)          0         \n",
            "_________________________________________________________________\n",
            "conv2d_14 (Conv2D)           (None, 4, 4, 64)          36928     \n",
            "_________________________________________________________________\n",
            "flatten_9 (Flatten)          (None, 1024)              0         \n",
            "_________________________________________________________________\n",
            "dense_23 (Dense)             (None, 64)                65600     \n",
            "_________________________________________________________________\n",
            "dense_24 (Dense)             (None, 10)                650       \n",
            "=================================================================\n",
            "Total params: 122,570\n",
            "Trainable params: 122,570\n",
            "Non-trainable params: 0\n",
            "_________________________________________________________________\n"
          ],
          "name": "stdout"
        }
      ]
    },
    {
      "cell_type": "code",
      "metadata": {
        "id": "8bAHrCPtcOSj",
        "outputId": "86d5c7ff-08fa-4739-a509-06a9f70c2751",
        "colab": {
          "base_uri": "https://localhost:8080/",
          "height": 1000
        }
      },
      "source": [
        "dnn_model.compile(optimizer='adam', loss='sparse_categorical_crossentropy', metrics=['accuracy'])\n",
        "cnn_model.compile(optimizer='adam', loss='sparse_categorical_crossentropy', metrics=['accuracy'])\n",
        "\n",
        "dnn_hist=dnn_model.fit(train_x, train_y, epochs=20, batch_size=100, validation_split=0.10)\n",
        "cnn_hist=cnn_model.fit(ext_train_x, train_y, epochs=20, batch_size=100, validation_split=0.10)"
      ],
      "execution_count": 21,
      "outputs": [
        {
          "output_type": "stream",
          "text": [
            "Epoch 1/20\n",
            "450/450 [==============================] - 1s 3ms/step - loss: 1.9511 - accuracy: 0.2823 - val_loss: 1.8610 - val_accuracy: 0.3252\n",
            "Epoch 2/20\n",
            "450/450 [==============================] - 1s 2ms/step - loss: 1.7883 - accuracy: 0.3551 - val_loss: 1.7711 - val_accuracy: 0.3610\n",
            "Epoch 3/20\n",
            "450/450 [==============================] - 1s 2ms/step - loss: 1.7395 - accuracy: 0.3728 - val_loss: 1.7278 - val_accuracy: 0.3704\n",
            "Epoch 4/20\n",
            "450/450 [==============================] - 1s 2ms/step - loss: 1.7140 - accuracy: 0.3816 - val_loss: 1.7182 - val_accuracy: 0.3804\n",
            "Epoch 5/20\n",
            "450/450 [==============================] - 1s 2ms/step - loss: 1.6934 - accuracy: 0.3877 - val_loss: 1.6885 - val_accuracy: 0.3916\n",
            "Epoch 6/20\n",
            "450/450 [==============================] - 1s 2ms/step - loss: 1.6824 - accuracy: 0.3938 - val_loss: 1.6952 - val_accuracy: 0.3916\n",
            "Epoch 7/20\n",
            "450/450 [==============================] - 1s 2ms/step - loss: 1.6687 - accuracy: 0.3999 - val_loss: 1.6841 - val_accuracy: 0.4026\n",
            "Epoch 8/20\n",
            "450/450 [==============================] - 1s 2ms/step - loss: 1.6609 - accuracy: 0.4010 - val_loss: 1.6506 - val_accuracy: 0.4032\n",
            "Epoch 9/20\n",
            "450/450 [==============================] - 1s 2ms/step - loss: 1.6442 - accuracy: 0.4079 - val_loss: 1.6677 - val_accuracy: 0.3986\n",
            "Epoch 10/20\n",
            "450/450 [==============================] - 1s 2ms/step - loss: 1.6416 - accuracy: 0.4077 - val_loss: 1.6517 - val_accuracy: 0.4076\n",
            "Epoch 11/20\n",
            "450/450 [==============================] - 1s 2ms/step - loss: 1.6296 - accuracy: 0.4123 - val_loss: 1.6522 - val_accuracy: 0.4086\n",
            "Epoch 12/20\n",
            "450/450 [==============================] - 1s 2ms/step - loss: 1.6286 - accuracy: 0.4137 - val_loss: 1.6475 - val_accuracy: 0.4128\n",
            "Epoch 13/20\n",
            "450/450 [==============================] - 1s 2ms/step - loss: 1.6194 - accuracy: 0.4178 - val_loss: 1.6219 - val_accuracy: 0.4234\n",
            "Epoch 14/20\n",
            "450/450 [==============================] - 1s 2ms/step - loss: 1.6208 - accuracy: 0.4159 - val_loss: 1.6213 - val_accuracy: 0.4174\n",
            "Epoch 15/20\n",
            "450/450 [==============================] - 1s 2ms/step - loss: 1.6136 - accuracy: 0.4180 - val_loss: 1.6303 - val_accuracy: 0.4154\n",
            "Epoch 16/20\n",
            "450/450 [==============================] - 1s 2ms/step - loss: 1.6128 - accuracy: 0.4205 - val_loss: 1.6311 - val_accuracy: 0.4110\n",
            "Epoch 17/20\n",
            "450/450 [==============================] - 1s 2ms/step - loss: 1.6015 - accuracy: 0.4249 - val_loss: 1.6206 - val_accuracy: 0.4208\n",
            "Epoch 18/20\n",
            "450/450 [==============================] - 1s 2ms/step - loss: 1.5987 - accuracy: 0.4253 - val_loss: 1.6266 - val_accuracy: 0.4132\n",
            "Epoch 19/20\n",
            "450/450 [==============================] - 1s 2ms/step - loss: 1.6025 - accuracy: 0.4246 - val_loss: 1.6260 - val_accuracy: 0.4146\n",
            "Epoch 20/20\n",
            "450/450 [==============================] - 1s 2ms/step - loss: 1.5976 - accuracy: 0.4227 - val_loss: 1.6080 - val_accuracy: 0.4214\n",
            "Epoch 1/20\n",
            "450/450 [==============================] - 2s 4ms/step - loss: 1.6752 - accuracy: 0.3870 - val_loss: 1.4257 - val_accuracy: 0.4914\n",
            "Epoch 2/20\n",
            "450/450 [==============================] - 2s 4ms/step - loss: 1.3126 - accuracy: 0.5321 - val_loss: 1.1830 - val_accuracy: 0.5856\n",
            "Epoch 3/20\n",
            "450/450 [==============================] - 2s 3ms/step - loss: 1.1532 - accuracy: 0.5913 - val_loss: 1.0739 - val_accuracy: 0.6306\n",
            "Epoch 4/20\n",
            "450/450 [==============================] - 2s 4ms/step - loss: 1.0509 - accuracy: 0.6282 - val_loss: 1.0086 - val_accuracy: 0.6540\n",
            "Epoch 5/20\n",
            "450/450 [==============================] - 2s 4ms/step - loss: 0.9690 - accuracy: 0.6611 - val_loss: 0.9488 - val_accuracy: 0.6716\n",
            "Epoch 6/20\n",
            "450/450 [==============================] - 2s 4ms/step - loss: 0.8998 - accuracy: 0.6861 - val_loss: 0.9270 - val_accuracy: 0.6804\n",
            "Epoch 7/20\n",
            "450/450 [==============================] - 2s 3ms/step - loss: 0.8480 - accuracy: 0.7026 - val_loss: 0.8889 - val_accuracy: 0.6886\n",
            "Epoch 8/20\n",
            "450/450 [==============================] - 2s 3ms/step - loss: 0.8137 - accuracy: 0.7167 - val_loss: 0.8810 - val_accuracy: 0.6956\n",
            "Epoch 9/20\n",
            "450/450 [==============================] - 2s 4ms/step - loss: 0.7712 - accuracy: 0.7317 - val_loss: 0.8389 - val_accuracy: 0.7118\n",
            "Epoch 10/20\n",
            "450/450 [==============================] - 2s 4ms/step - loss: 0.7302 - accuracy: 0.7454 - val_loss: 0.8318 - val_accuracy: 0.7216\n",
            "Epoch 11/20\n",
            "450/450 [==============================] - 2s 4ms/step - loss: 0.7007 - accuracy: 0.7557 - val_loss: 0.8192 - val_accuracy: 0.7192\n",
            "Epoch 12/20\n",
            "450/450 [==============================] - 2s 4ms/step - loss: 0.6677 - accuracy: 0.7650 - val_loss: 0.8036 - val_accuracy: 0.7230\n",
            "Epoch 13/20\n",
            "450/450 [==============================] - 2s 4ms/step - loss: 0.6432 - accuracy: 0.7744 - val_loss: 0.8290 - val_accuracy: 0.7240\n",
            "Epoch 14/20\n",
            "450/450 [==============================] - 2s 4ms/step - loss: 0.6181 - accuracy: 0.7842 - val_loss: 0.8452 - val_accuracy: 0.7150\n",
            "Epoch 15/20\n",
            "450/450 [==============================] - 2s 4ms/step - loss: 0.5906 - accuracy: 0.7922 - val_loss: 0.8338 - val_accuracy: 0.7236\n",
            "Epoch 16/20\n",
            "450/450 [==============================] - 2s 4ms/step - loss: 0.5587 - accuracy: 0.8040 - val_loss: 0.8092 - val_accuracy: 0.7284\n",
            "Epoch 17/20\n",
            "450/450 [==============================] - 2s 4ms/step - loss: 0.5381 - accuracy: 0.8099 - val_loss: 0.8242 - val_accuracy: 0.7332\n",
            "Epoch 18/20\n",
            "450/450 [==============================] - 2s 4ms/step - loss: 0.5130 - accuracy: 0.8191 - val_loss: 0.8282 - val_accuracy: 0.7280\n",
            "Epoch 19/20\n",
            "450/450 [==============================] - 2s 3ms/step - loss: 0.4930 - accuracy: 0.8267 - val_loss: 0.8226 - val_accuracy: 0.7344\n",
            "Epoch 20/20\n",
            "450/450 [==============================] - 2s 4ms/step - loss: 0.4746 - accuracy: 0.8335 - val_loss: 0.8698 - val_accuracy: 0.7256\n"
          ],
          "name": "stdout"
        }
      ]
    },
    {
      "cell_type": "code",
      "metadata": {
        "id": "zevqqY3Md-a0",
        "outputId": "cad8a813-7e06-4263-ad77-222c96b71f52",
        "colab": {
          "base_uri": "https://localhost:8080/",
          "height": 461
        }
      },
      "source": [
        "import matplotlib.pyplot as plt\n",
        "\n",
        "plt.figure(figsize=(7,5))\n",
        "plt.plot(dnn_hist.history['accuracy'], 'r--', label='train (DNN)')\n",
        "plt.plot(dnn_hist.history['val_accuracy'], 'r-', label='valid (DNN)')\n",
        "plt.plot(cnn_hist.history['accuracy'], 'b--', label='train (CNN)')\n",
        "plt.plot(cnn_hist.history['val_accuracy'], 'b-', label='valid (CNN)')\n",
        "plt.ylim([0.2,1.005])\n",
        "plt.xlabel('Epoch', fontsize=12)\n",
        "plt.ylabel('Accuracy', fontsize=12)\n",
        "plt.legend(loc='upper left', fontsize=12)\n",
        "plt.title('Accuracy trace plot', fontsize=15)\n",
        "plt.show()\n",
        "\n",
        "dnn_sc = dnn_model.evaluate(test_x, test_y)\n",
        "cnn_sc = cnn_model.evaluate(ext_test_x, test_y)\n",
        "print('Performance of DNN')\n",
        "print('...test accuracy: %.3f, test loss: %.3f'%(dnn_sc[1], dnn_sc[0]))\n",
        "print('Performance of CNN')\n",
        "print('...test accuracy: %.3f, test loss: %.3f'%(cnn_sc[1], cnn_sc[0]))\n"
      ],
      "execution_count": 22,
      "outputs": [
        {
          "output_type": "display_data",
          "data": {
            "image/png": "[encoded data removed]",
            "text/plain": [
              "<Figure size 504x360 with 1 Axes>"
            ]
          },
          "metadata": {
            "tags": [],
            "needs_background": "light"
          }
        },
        {
          "output_type": "stream",
          "text": [
            "313/313 [==============================] - 1s 2ms/step - loss: 1.6076 - accuracy: 0.4240\n",
            "313/313 [==============================] - 1s 2ms/step - loss: 0.9128 - accuracy: 0.7143\n",
            "Performance of DNN\n",
            "...test accuracy: 0.424, test loss: 1.608\n",
            "Performance of CNN\n",
            "...test accuracy: 0.714, test loss: 0.913\n"
          ],
          "name": "stdout"
        }
      ]
    }
  ]
}